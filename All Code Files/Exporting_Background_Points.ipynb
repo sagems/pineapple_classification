{
  "nbformat": 4,
  "nbformat_minor": 0,
  "metadata": {
    "colab": {
      "provenance": []
    },
    "kernelspec": {
      "name": "python3",
      "display_name": "Python 3"
    },
    "language_info": {
      "name": "python"
    }
  },
  "cells": [
    {
      "cell_type": "code",
      "execution_count": null,
      "metadata": {
        "id": "fi9gxEZxdPdL"
      },
      "outputs": [],
      "source": [
        "# This file exports the background points for a given year as a shp file, using the feature collection and the costa rica borders\n",
        "\n",
        "import ee\n",
        "\n",
        "# Trigger the authentication flow.\n",
        "ee.Authenticate()\n",
        "\n",
        "# Initialize the library.\n",
        "ee.Initialize(project='gbsc-gcp-lab-emordeca')\n",
        "\n"
      ]
    },
    {
      "cell_type": "code",
      "source": [
        "# background points\n",
        "# Load feature collection and borders\n",
        "feature_collection = ee.FeatureCollection('projects/gbsc-gcp-lab-emordeca/assets/costa_rica/plantations/2018/CRpineapple2018')\n",
        "borders = ee.FeatureCollection('FAO/GAUL/2015/level0')\n",
        "costa_rica = borders.filter(ee.Filter.eq('ADM0_NAME', 'Costa Rica'))\n",
        "costa_rica = ee.Feature(costa_rica.toList(costa_rica.size()).get(0))\n",
        "\n",
        "# Convert the feature collection to a list\n",
        "feature_list = feature_collection.toList(feature_collection.size()).slice(1)\n",
        "\n",
        "# Iterate over the feature collection to subtract each feature from costa_rica\n",
        "modified_costa_rica = costa_rica\n",
        "for i in range(feature_list.size().getInfo()):\n",
        "  feature = ee.Feature(feature_list.get(i))\n",
        "  modified_costa_rica = modified_costa_rica.difference(feature)\n",
        "\n",
        "# Generate random points within the costa_rica geometry\n",
        "randomPoints = ee.FeatureCollection.randomPoints(costa_rica.geometry(), 3439)\n",
        "\n",
        "# Define export parameters\n",
        "export_params = {\n",
        "    'collection': randomPoints,\n",
        "    'description': '2018_non_pineapple_points',\n",
        "    'fileFormat': 'SHP'\n",
        "}\n",
        "\n",
        "# Start the export task\n",
        "task = ee.batch.Export.table.toDrive(**export_params)\n",
        "task.start()"
      ],
      "metadata": {
        "id": "zt1Za4cVhcJY"
      },
      "execution_count": null,
      "outputs": []
    }
  ]
}