{
  "nbformat": 4,
  "nbformat_minor": 0,
  "metadata": {
    "colab": {
      "provenance": []
    },
    "kernelspec": {
      "name": "python3",
      "display_name": "Python 3"
    },
    "language_info": {
      "name": "python"
    }
  },
  "cells": [
    {
      "cell_type": "markdown",
      "source": [
        "# Merging and cleaning training data"
      ],
      "metadata": {
        "id": "TdjN0eHAY6my"
      }
    },
    {
      "cell_type": "code",
      "execution_count": null,
      "metadata": {
        "colab": {
          "base_uri": "https://localhost:8080/"
        },
        "id": "A1kJvqFtocm2",
        "outputId": "1cae15c7-62f0-4c9b-b172-7ba2d51965e6"
      },
      "outputs": [
        {
          "output_type": "stream",
          "name": "stdout",
          "text": [
            "Drive already mounted at /content/drive; to attempt to forcibly remount, call drive.mount(\"/content/drive\", force_remount=True).\n"
          ]
        }
      ],
      "source": [
        "# mount drive\n",
        "from google.colab import drive\n",
        "drive.mount('/content/drive')\n",
        "import pandas as pd"
      ]
    },
    {
      "cell_type": "code",
      "source": [
        "background = '/content/drive/MyDrive/CS 131 final project/training_data/background_2019_sampled_data.csv'\n",
        "pineapple = '/content/drive/MyDrive/CS 131 final project/training_data/pineapple_2019_sampled_data.csv'\n",
        "\n",
        "background_df = pd.read_csv(background)\n",
        "pineapple_df = pd.read_csv(pineapple)"
      ],
      "metadata": {
        "id": "0GqlDcJRpDip"
      },
      "execution_count": null,
      "outputs": []
    },
    {
      "cell_type": "code",
      "source": [
        "import json\n",
        "# Add a column 'pineapple' to each DataFrame\n",
        "background_df['pineapple'] = 0  # 0 indicates it's from the background\n",
        "pineapple_df['pineapple'] = 1   # 1 indicates it's from the pineapple\n",
        "\n",
        "# Concatenate the DataFrames vertically (row-wise)\n",
        "combined_df = pd.concat([background_df, pineapple_df], ignore_index=True)\n",
        "combined_df = combined_df.drop('system:index', axis=1)\n",
        "\n",
        "def extract_coordinates(json_str):\n",
        "    json_data = json.loads(json_str)\n",
        "    coordinates = json_data.get('coordinates', [])\n",
        "    return {'latitude': coordinates[1], 'longitude': coordinates[0]}\n",
        "\n",
        "# Apply the function to the 'location' column\n",
        "combined_df[['latitude', 'longitude']] = combined_df['.geo'].apply(lambda x: pd.Series(extract_coordinates(x)))\n",
        "\n",
        "# Drop the original 'location' column if needed\n",
        "combined_df.drop('.geo', axis=1, inplace=True)\n",
        "\n"
      ],
      "metadata": {
        "id": "RyotLbwzpoOB"
      },
      "execution_count": null,
      "outputs": []
    },
    {
      "cell_type": "code",
      "source": [
        "csv_file_path = \"/content/drive/MyDrive/CS 131 final project/training_data/2019_cleaned.csv\"\n",
        "combined_df.to_csv(csv_file_path, index=False)"
      ],
      "metadata": {
        "id": "9pzCHmRFsCzR"
      },
      "execution_count": null,
      "outputs": []
    },
    {
      "cell_type": "code",
      "source": [
        "cleaned_2019 = '/content/drive/MyDrive/CS 131 final project/training_data/2019_cleaned.csv'\n",
        "cleaned_2018 = '/content/drive/MyDrive/CS 131 final project/training_data/2018_cleaned.csv'\n",
        "\n",
        "cleaned_2019 = pd.read_csv(cleaned_2019)\n",
        "cleaned_2018 = pd.read_csv(cleaned_2018)\n",
        "\n",
        "cleaned_2019['year'] = '2019'\n",
        "\n",
        "cleaned_2018['year'] = '2018'\n",
        "\n",
        "combined_df = pd.concat([cleaned_2018, cleaned_2019], ignore_index=True)\n",
        "csv_file_path = \"/content/drive/MyDrive/CS 131 final project/training_data/cleaned_combined.csv\"\n",
        "combined_df.to_csv(csv_file_path, index=False)"
      ],
      "metadata": {
        "id": "239MtR7dskTl"
      },
      "execution_count": null,
      "outputs": []
    }
  ]
}